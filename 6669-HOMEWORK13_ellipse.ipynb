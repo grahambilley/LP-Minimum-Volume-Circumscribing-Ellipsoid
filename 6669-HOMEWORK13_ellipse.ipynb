{
 "cells": [
  {
   "cell_type": "code",
   "execution_count": 1,
   "metadata": {},
   "outputs": [],
   "source": [
    "import numpy as np\n",
    "import matplotlib.pyplot as plt\n",
    "import matplotlib.patches as patches\n",
    "import cvxpy as cp"
   ]
  },
  {
   "cell_type": "code",
   "execution_count": 2,
   "metadata": {},
   "outputs": [],
   "source": [
    "v=np.random.rand(2,20)\n",
    "A=cp.Variable((2, 2), PSD=True)\n",
    "b=cp.Variable((2,1))"
   ]
  },
  {
   "cell_type": "code",
   "execution_count": 3,
   "metadata": {},
   "outputs": [],
   "source": [
    "constraints=[]\n",
    "for i in range(0,20):\n",
    "    constraints.append(cp.norm(A*np.asmatrix(v[:,i]).transpose()-b)<=1)"
   ]
  },
  {
   "cell_type": "code",
   "execution_count": 4,
   "metadata": {},
   "outputs": [
    {
     "data": {
      "text/plain": [
       "-1.1994507961272718"
      ]
     },
     "execution_count": 4,
     "metadata": {},
     "output_type": "execute_result"
    }
   ],
   "source": [
    "objective= -cp.log_det(A)\n",
    "problem= cp.Problem(cp.Minimize(objective),constraints)\n",
    "problem.solve(solver=cp.MOSEK)"
   ]
  },
  {
   "cell_type": "code",
   "execution_count": 5,
   "metadata": {},
   "outputs": [
    {
     "name": "stdout",
     "output_type": "stream",
     "text": [
      "The optimal objective value is -1.1994507961272718\n",
      "The value of A is [[ 1.83499141 -0.05546489]\n",
      " [-0.05546489  1.81001957]]\n",
      "The value of b is [[0.81903457]\n",
      " [0.81567856]]\n"
     ]
    }
   ],
   "source": [
    "print(\"The optimal objective value is\",problem.value)\n",
    "print(\"The value of A is\",A.value)  \n",
    "print(\"The value of b is\",b.value)"
   ]
  },
  {
   "cell_type": "code",
   "execution_count": 6,
   "metadata": {},
   "outputs": [],
   "source": [
    "A_sol = A.value\n",
    "b_sol = b.value\n",
    "\n",
    "Q =np.dot(A_sol.transpose(), A_sol)\n",
    "c = np.dot(np.linalg.inv(A_sol), b_sol)"
   ]
  },
  {
   "cell_type": "code",
   "execution_count": 7,
   "metadata": {},
   "outputs": [],
   "source": [
    "#calculating parameters of the ellipse\n",
    "D, U = np.linalg.eig(Q)\n",
    "ra = 1 / np.sqrt(D[0])\n",
    "rb = 1 / np.sqrt(D[1])\n",
    "ang = np.arctan(U[1, 0] / U[0, 0])"
   ]
  },
  {
   "cell_type": "code",
   "execution_count": 8,
   "metadata": {},
   "outputs": [
    {
     "data": {
      "image/png": "[encoded data removed]",
      "text/plain": [
       "<Figure size 432x288 with 1 Axes>"
      ]
     },
     "metadata": {
      "needs_background": "light"
     },
     "output_type": "display_data"
    }
   ],
   "source": [
    "#plotting the ellipse\n",
    "ells=patches.Ellipse(c, 2 * ra, 2 * rb, np.rad2deg(ang), fill=False)\n",
    "fig, ax = plt.subplots(subplot_kw={'aspect': 'equal'})\n",
    "ax.scatter(v[0, :], v[1, :])\n",
    "ax.add_artist(ells)\n",
    "ax.axis('scaled')\n",
    "plt.show()"
   ]
  }
 ],
 "metadata": {
  "kernelspec": {
   "display_name": "Python 3",
   "language": "python",
   "name": "python3"
  },
  "language_info": {
   "codemirror_mode": {
    "name": "ipython",
    "version": 3
   },
   "file_extension": ".py",
   "mimetype": "text/x-python",
   "name": "python",
   "nbconvert_exporter": "python",
   "pygments_lexer": "ipython3",
   "version": "3.7.4"
  }
 },
 "nbformat": 4,
 "nbformat_minor": 2
}
